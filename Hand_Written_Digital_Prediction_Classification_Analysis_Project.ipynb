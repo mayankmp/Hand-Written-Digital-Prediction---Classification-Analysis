{
  "nbformat": 4,
  "nbformat_minor": 0,
  "metadata": {
    "colab": {
      "provenance": []
    },
    "kernelspec": {
      "name": "python3",
      "display_name": "Python 3"
    },
    "language_info": {
      "name": "python"
    }
  },
  "cells": [
    {
      "cell_type": "markdown",
      "source": [
        "# **Hand Written Digital Prediction - Classification Analysis**"
      ],
      "metadata": {
        "id": "dqZ-nhxiganh"
      }
    },
    {
      "cell_type": "markdown",
      "source": [
        "**The digits consists of 8x8 pixel images of digits. The images attributes of the dataset stores 8x8 arrays of grayscale values for each image. We will use these arrays visualize the first 4 images. The target attribute of the dataset stores the didt each image represents.**"
      ],
      "metadata": {
        "id": "PVfRlgtMq1bC"
      }
    },
    {
      "cell_type": "markdown",
      "source": [
        "-------------"
      ],
      "metadata": {
        "id": "gScHkw6jjrLo"
      }
    },
    {
      "cell_type": "markdown",
      "source": [
        "## **Import Library**"
      ],
      "metadata": {
        "id": "r7GrZzX0iTlV"
      }
    },
    {
      "cell_type": "code",
      "source": [
        "import pandas as pd\n"
      ],
      "metadata": {
        "id": "UkK6NH9DiW-X"
      },
      "execution_count": 2,
      "outputs": []
    },
    {
      "cell_type": "code",
      "source": [
        "import numpy as np\n"
      ],
      "metadata": {
        "id": "h7d7431OewUS"
      },
      "execution_count": 3,
      "outputs": []
    },
    {
      "cell_type": "code",
      "source": [
        "import matplotlib.pyplot as plt\n"
      ],
      "metadata": {
        "id": "Z-L29YT6rhxS"
      },
      "execution_count": 4,
      "outputs": []
    },
    {
      "cell_type": "markdown",
      "source": [
        "## **Import Data**"
      ],
      "metadata": {
        "id": "9lHPQj1XiOUc"
      }
    },
    {
      "cell_type": "code",
      "source": [
        "from sklearn.datasets import load_digits"
      ],
      "metadata": {
        "id": "zcU1fdnGho6M"
      },
      "execution_count": 6,
      "outputs": []
    },
    {
      "cell_type": "code",
      "source": [
        "df = load_digits()"
      ],
      "metadata": {
        "id": "wtJ35hypr-XB"
      },
      "execution_count": 8,
      "outputs": []
    },
    {
      "cell_type": "code",
      "source": [
        "_, axes = plt.subplots(nrows=1, ncols=4, figsize=(10, 3))\n",
        "for ax, image, label in zip(axes, df.images, df.target):\n",
        "  ax.set_axis_off()\n",
        "  ax.imshow(image, cmap=plt.cm.gray_r, interpolation='nearest')\n",
        "  ax.set_title('Training: %i' % label)"
      ],
      "metadata": {
        "colab": {
          "base_uri": "https://localhost:8080/",
          "height": 227
        },
        "id": "nk0a_Q-usCuA",
        "outputId": "1435cd92-834a-42a2-af43-7f10217f60ff"
      },
      "execution_count": 9,
      "outputs": [
        {
          "output_type": "display_data",
          "data": {
            "text/plain": [
              "<Figure size 1000x300 with 4 Axes>"
            ],
            "image/png": "[encoded data removed]"
          },
          "metadata": {}
        }
      ]
    },
    {
      "cell_type": "markdown",
      "source": [
        "## **Data Processing**"
      ],
      "metadata": {
        "id": "7PUnimBoiX-x"
      }
    },
    {
      "cell_type": "markdown",
      "source": [
        "**Flatten Image**"
      ],
      "metadata": {
        "id": "_wFFFR3Cwj8E"
      }
    },
    {
      "cell_type": "markdown",
      "source": [
        "# **8 X 8 Image**\n",
        "\n",
        "\n",
        "\n",
        "\n",
        "![8x8.png](data:image/png;base64,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)"
      ],
      "metadata": {
        "id": "a6oOMFDXwo1m"
      }
    },
    {
      "cell_type": "markdown",
      "source": [
        "# **Flatten Image**\n",
        "\n",
        "![flatten image.png](data:image/png;base64,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)"
      ],
      "metadata": {
        "id": "Vqr5ukEaxLKJ"
      }
    },
    {
      "cell_type": "code",
      "source": [
        "df.images.shape"
      ],
      "metadata": {
        "id": "kG15arusiZ8Z",
        "colab": {
          "base_uri": "https://localhost:8080/"
        },
        "outputId": "8a9f35be-8233-430e-9047-eab713c1d47f"
      },
      "execution_count": 11,
      "outputs": [
        {
          "output_type": "execute_result",
          "data": {
            "text/plain": [
              "(1797, 8, 8)"
            ]
          },
          "metadata": {},
          "execution_count": 11
        }
      ]
    },
    {
      "cell_type": "code",
      "source": [
        "df.images[0]"
      ],
      "metadata": {
        "colab": {
          "base_uri": "https://localhost:8080/"
        },
        "id": "-5HovTltxcfR",
        "outputId": "64d15b15-59e3-44fa-e30a-2eae59995b21"
      },
      "execution_count": 13,
      "outputs": [
        {
          "output_type": "execute_result",
          "data": {
            "text/plain": [
              "array([[ 0.,  0.,  5., 13.,  9.,  1.,  0.,  0.],\n",
              "       [ 0.,  0., 13., 15., 10., 15.,  5.,  0.],\n",
              "       [ 0.,  3., 15.,  2.,  0., 11.,  8.,  0.],\n",
              "       [ 0.,  4., 12.,  0.,  0.,  8.,  8.,  0.],\n",
              "       [ 0.,  5.,  8.,  0.,  0.,  9.,  8.,  0.],\n",
              "       [ 0.,  4., 11.,  0.,  1., 12.,  7.,  0.],\n",
              "       [ 0.,  2., 14.,  5., 10., 12.,  0.,  0.],\n",
              "       [ 0.,  0.,  6., 13., 10.,  0.,  0.,  0.]])"
            ]
          },
          "metadata": {},
          "execution_count": 13
        }
      ]
    },
    {
      "cell_type": "code",
      "source": [
        "df.images[0].shape"
      ],
      "metadata": {
        "colab": {
          "base_uri": "https://localhost:8080/"
        },
        "id": "M-jpr9dCxfAY",
        "outputId": "ae328f23-7178-4995-b21b-4a1856e0d7d7"
      },
      "execution_count": 15,
      "outputs": [
        {
          "output_type": "execute_result",
          "data": {
            "text/plain": [
              "(8, 8)"
            ]
          },
          "metadata": {},
          "execution_count": 15
        }
      ]
    },
    {
      "cell_type": "code",
      "source": [
        "len(df.images)"
      ],
      "metadata": {
        "colab": {
          "base_uri": "https://localhost:8080/"
        },
        "id": "8Q7o0eaDxiTu",
        "outputId": "f8b0b19e-63d1-4d2a-a425-73485a83676d"
      },
      "execution_count": 17,
      "outputs": [
        {
          "output_type": "execute_result",
          "data": {
            "text/plain": [
              "1797"
            ]
          },
          "metadata": {},
          "execution_count": 17
        }
      ]
    },
    {
      "cell_type": "code",
      "source": [
        "n_samples = len(df.images)\n",
        "data = df.images.reshape((n_samples, -1))"
      ],
      "metadata": {
        "id": "9Vv-X7AXxo1U"
      },
      "execution_count": 20,
      "outputs": []
    },
    {
      "cell_type": "code",
      "source": [
        "data[0].shape"
      ],
      "metadata": {
        "colab": {
          "base_uri": "https://localhost:8080/"
        },
        "id": "F4jRY8R2x0iD",
        "outputId": "0896f7d4-ad27-457d-8d67-7cf35adf1ade"
      },
      "execution_count": 21,
      "outputs": [
        {
          "output_type": "execute_result",
          "data": {
            "text/plain": [
              "(64,)"
            ]
          },
          "metadata": {},
          "execution_count": 21
        }
      ]
    },
    {
      "cell_type": "markdown",
      "source": [
        "## **Scaling Image Data**"
      ],
      "metadata": {
        "id": "oBGX4Ekniriz"
      }
    },
    {
      "cell_type": "code",
      "source": [
        "data.min()"
      ],
      "metadata": {
        "id": "lW-OIRK0iuzO",
        "colab": {
          "base_uri": "https://localhost:8080/"
        },
        "outputId": "caf33bae-f6ac-4028-ffb8-6e1225e7e836"
      },
      "execution_count": 23,
      "outputs": [
        {
          "output_type": "execute_result",
          "data": {
            "text/plain": [
              "0.0"
            ]
          },
          "metadata": {},
          "execution_count": 23
        }
      ]
    },
    {
      "cell_type": "code",
      "source": [
        "data.max()"
      ],
      "metadata": {
        "colab": {
          "base_uri": "https://localhost:8080/"
        },
        "id": "3fRMZfJ0yAxB",
        "outputId": "15c8255d-9144-4f83-c51f-6b2827d0d966"
      },
      "execution_count": 25,
      "outputs": [
        {
          "output_type": "execute_result",
          "data": {
            "text/plain": [
              "16.0"
            ]
          },
          "metadata": {},
          "execution_count": 25
        }
      ]
    },
    {
      "cell_type": "code",
      "source": [
        "data = data/16"
      ],
      "metadata": {
        "id": "JW90p5tZyCpL"
      },
      "execution_count": 27,
      "outputs": []
    },
    {
      "cell_type": "code",
      "source": [
        "data.min()"
      ],
      "metadata": {
        "colab": {
          "base_uri": "https://localhost:8080/"
        },
        "id": "GCCPnJM4yFVI",
        "outputId": "1bc44225-6192-4513-d490-49823e71954a"
      },
      "execution_count": 29,
      "outputs": [
        {
          "output_type": "execute_result",
          "data": {
            "text/plain": [
              "0.0"
            ]
          },
          "metadata": {},
          "execution_count": 29
        }
      ]
    },
    {
      "cell_type": "code",
      "source": [
        "data.max()"
      ],
      "metadata": {
        "colab": {
          "base_uri": "https://localhost:8080/"
        },
        "id": "vdQPP-u_yH-1",
        "outputId": "fa3cb481-4c0c-45ba-faf8-f66ee549059a"
      },
      "execution_count": 30,
      "outputs": [
        {
          "output_type": "execute_result",
          "data": {
            "text/plain": [
              "0.0625"
            ]
          },
          "metadata": {},
          "execution_count": 30
        }
      ]
    },
    {
      "cell_type": "code",
      "source": [
        "data[0]"
      ],
      "metadata": {
        "colab": {
          "base_uri": "https://localhost:8080/"
        },
        "id": "uGBIahGdyKwE",
        "outputId": "41f464ef-a6ef-48d5-e31b-90bc81b77093"
      },
      "execution_count": 32,
      "outputs": [
        {
          "output_type": "execute_result",
          "data": {
            "text/plain": [
              "array([0.        , 0.        , 0.01953125, 0.05078125, 0.03515625,\n",
              "       0.00390625, 0.        , 0.        , 0.        , 0.        ,\n",
              "       0.05078125, 0.05859375, 0.0390625 , 0.05859375, 0.01953125,\n",
              "       0.        , 0.        , 0.01171875, 0.05859375, 0.0078125 ,\n",
              "       0.        , 0.04296875, 0.03125   , 0.        , 0.        ,\n",
              "       0.015625  , 0.046875  , 0.        , 0.        , 0.03125   ,\n",
              "       0.03125   , 0.        , 0.        , 0.01953125, 0.03125   ,\n",
              "       0.        , 0.        , 0.03515625, 0.03125   , 0.        ,\n",
              "       0.        , 0.015625  , 0.04296875, 0.        , 0.00390625,\n",
              "       0.046875  , 0.02734375, 0.        , 0.        , 0.0078125 ,\n",
              "       0.0546875 , 0.01953125, 0.0390625 , 0.046875  , 0.        ,\n",
              "       0.        , 0.        , 0.        , 0.0234375 , 0.05078125,\n",
              "       0.0390625 , 0.        , 0.        , 0.        ])"
            ]
          },
          "metadata": {},
          "execution_count": 32
        }
      ]
    },
    {
      "cell_type": "code",
      "source": [],
      "metadata": {
        "id": "Ra3QPOXLyQD5"
      },
      "execution_count": null,
      "outputs": []
    },
    {
      "cell_type": "markdown",
      "source": [
        "## **Train Test Split Data**"
      ],
      "metadata": {
        "id": "UqfyPOCYiiww"
      }
    },
    {
      "cell_type": "code",
      "source": [
        "from sklearn.model_selection import train_test_split"
      ],
      "metadata": {
        "id": "3cyr3fbGin0A"
      },
      "execution_count": 34,
      "outputs": []
    },
    {
      "cell_type": "code",
      "source": [
        "X_train, X_test, y_train, y_test = train_test_split(data, df.target, test_size=0.3)"
      ],
      "metadata": {
        "id": "F4UPbVK7yt2z"
      },
      "execution_count": 36,
      "outputs": []
    },
    {
      "cell_type": "code",
      "source": [
        "X_train.shape, X_test.shape, y_train.shape, y_test.shape"
      ],
      "metadata": {
        "colab": {
          "base_uri": "https://localhost:8080/"
        },
        "id": "okqfB3SDy728",
        "outputId": "d2d0ada9-e065-4a29-9f97-1f9dad664d74"
      },
      "execution_count": 37,
      "outputs": [
        {
          "output_type": "execute_result",
          "data": {
            "text/plain": [
              "((1257, 64), (540, 64), (1257,), (540,))"
            ]
          },
          "metadata": {},
          "execution_count": 37
        }
      ]
    },
    {
      "cell_type": "markdown",
      "source": [
        "## **Random Forest Model**"
      ],
      "metadata": {
        "id": "PL_Fb6N-gUVT"
      }
    },
    {
      "cell_type": "code",
      "source": [
        "from sklearn.ensemble import RandomForestClassifier"
      ],
      "metadata": {
        "id": "rIw-Ra1UgbPo"
      },
      "execution_count": 39,
      "outputs": []
    },
    {
      "cell_type": "code",
      "source": [
        "rf = RandomForestClassifier()"
      ],
      "metadata": {
        "id": "ewzjx3jAzPEq"
      },
      "execution_count": 41,
      "outputs": []
    },
    {
      "cell_type": "code",
      "source": [
        "rf.fit(X_train, y_train)"
      ],
      "metadata": {
        "colab": {
          "base_uri": "https://localhost:8080/",
          "height": 75
        },
        "id": "PoE5kREQzTv7",
        "outputId": "064d1acf-f428-4963-bfa5-d369d2f27027"
      },
      "execution_count": 42,
      "outputs": [
        {
          "output_type": "execute_result",
          "data": {
            "text/plain": [
              "RandomForestClassifier()"
            ],
            "text/html": [
              "<style>#sk-container-id-1 {color: black;background-color: white;}#sk-container-id-1 pre{padding: 0;}#sk-container-id-1 div.sk-toggleable {background-color: white;}#sk-container-id-1 label.sk-toggleable__label {cursor: pointer;display: block;width: 100%;margin-bottom: 0;padding: 0.3em;box-sizing: border-box;text-align: center;}#sk-container-id-1 label.sk-toggleable__label-arrow:before {content: \"▸\";float: left;margin-right: 0.25em;color: #696969;}#sk-container-id-1 label.sk-toggleable__label-arrow:hover:before {color: black;}#sk-container-id-1 div.sk-estimator:hover label.sk-toggleable__label-arrow:before {color: black;}#sk-container-id-1 div.sk-toggleable__content {max-height: 0;max-width: 0;overflow: hidden;text-align: left;background-color: #f0f8ff;}#sk-container-id-1 div.sk-toggleable__content pre {margin: 0.2em;color: black;border-radius: 0.25em;background-color: #f0f8ff;}#sk-container-id-1 input.sk-toggleable__control:checked~div.sk-toggleable__content {max-height: 200px;max-width: 100%;overflow: auto;}#sk-container-id-1 input.sk-toggleable__control:checked~label.sk-toggleable__label-arrow:before {content: \"▾\";}#sk-container-id-1 div.sk-estimator input.sk-toggleable__control:checked~label.sk-toggleable__label {background-color: #d4ebff;}#sk-container-id-1 div.sk-label input.sk-toggleable__control:checked~label.sk-toggleable__label {background-color: #d4ebff;}#sk-container-id-1 input.sk-hidden--visually {border: 0;clip: rect(1px 1px 1px 1px);clip: rect(1px, 1px, 1px, 1px);height: 1px;margin: -1px;overflow: hidden;padding: 0;position: absolute;width: 1px;}#sk-container-id-1 div.sk-estimator {font-family: monospace;background-color: #f0f8ff;border: 1px dotted black;border-radius: 0.25em;box-sizing: border-box;margin-bottom: 0.5em;}#sk-container-id-1 div.sk-estimator:hover {background-color: #d4ebff;}#sk-container-id-1 div.sk-parallel-item::after {content: \"\";width: 100%;border-bottom: 1px solid gray;flex-grow: 1;}#sk-container-id-1 div.sk-label:hover label.sk-toggleable__label {background-color: #d4ebff;}#sk-container-id-1 div.sk-serial::before {content: \"\";position: absolute;border-left: 1px solid gray;box-sizing: border-box;top: 0;bottom: 0;left: 50%;z-index: 0;}#sk-container-id-1 div.sk-serial {display: flex;flex-direction: column;align-items: center;background-color: white;padding-right: 0.2em;padding-left: 0.2em;position: relative;}#sk-container-id-1 div.sk-item {position: relative;z-index: 1;}#sk-container-id-1 div.sk-parallel {display: flex;align-items: stretch;justify-content: center;background-color: white;position: relative;}#sk-container-id-1 div.sk-item::before, #sk-container-id-1 div.sk-parallel-item::before {content: \"\";position: absolute;border-left: 1px solid gray;box-sizing: border-box;top: 0;bottom: 0;left: 50%;z-index: -1;}#sk-container-id-1 div.sk-parallel-item {display: flex;flex-direction: column;z-index: 1;position: relative;background-color: white;}#sk-container-id-1 div.sk-parallel-item:first-child::after {align-self: flex-end;width: 50%;}#sk-container-id-1 div.sk-parallel-item:last-child::after {align-self: flex-start;width: 50%;}#sk-container-id-1 div.sk-parallel-item:only-child::after {width: 0;}#sk-container-id-1 div.sk-dashed-wrapped {border: 1px dashed gray;margin: 0 0.4em 0.5em 0.4em;box-sizing: border-box;padding-bottom: 0.4em;background-color: white;}#sk-container-id-1 div.sk-label label {font-family: monospace;font-weight: bold;display: inline-block;line-height: 1.2em;}#sk-container-id-1 div.sk-label-container {text-align: center;}#sk-container-id-1 div.sk-container {/* jupyter's `normalize.less` sets `[hidden] { display: none; }` but bootstrap.min.css set `[hidden] { display: none !important; }` so we also need the `!important` here to be able to override the default hidden behavior on the sphinx rendered scikit-learn.org. See: https://github.com/scikit-learn/scikit-learn/issues/21755 */display: inline-block !important;position: relative;}#sk-container-id-1 div.sk-text-repr-fallback {display: none;}</style><div id=\"sk-container-id-1\" class=\"sk-top-container\"><div class=\"sk-text-repr-fallback\"><pre>RandomForestClassifier()</pre><b>In a Jupyter environment, please rerun this cell to show the HTML representation or trust the notebook. <br />On GitHub, the HTML representation is unable to render, please try loading this page with nbviewer.org.</b></div><div class=\"sk-container\" hidden><div class=\"sk-item\"><div class=\"sk-estimator sk-toggleable\"><input class=\"sk-toggleable__control sk-hidden--visually\" id=\"sk-estimator-id-1\" type=\"checkbox\" checked><label for=\"sk-estimator-id-1\" class=\"sk-toggleable__label sk-toggleable__label-arrow\">RandomForestClassifier</label><div class=\"sk-toggleable__content\"><pre>RandomForestClassifier()</pre></div></div></div></div></div>"
            ]
          },
          "metadata": {},
          "execution_count": 42
        }
      ]
    },
    {
      "cell_type": "markdown",
      "source": [
        "## **Predict Test Data**"
      ],
      "metadata": {
        "id": "R177ll1zgh7Q"
      }
    },
    {
      "cell_type": "code",
      "source": [
        "y_pred = rf.predict(X_test)"
      ],
      "metadata": {
        "id": "r92Ml_RCgm7r"
      },
      "execution_count": 44,
      "outputs": []
    },
    {
      "cell_type": "code",
      "source": [
        "y_pred"
      ],
      "metadata": {
        "colab": {
          "base_uri": "https://localhost:8080/"
        },
        "id": "hp0AX3jXzm1X",
        "outputId": "8dc47846-2d63-49cc-8599-0e19710e6471"
      },
      "execution_count": 45,
      "outputs": [
        {
          "output_type": "execute_result",
          "data": {
            "text/plain": [
              "array([8, 1, 1, 5, 1, 1, 2, 8, 6, 2, 1, 7, 7, 7, 8, 7, 5, 0, 7, 4, 9, 6,\n",
              "       0, 2, 1, 7, 6, 1, 3, 2, 2, 3, 0, 7, 7, 1, 2, 2, 5, 3, 8, 5, 2, 4,\n",
              "       0, 7, 9, 8, 8, 5, 2, 3, 7, 7, 4, 0, 7, 0, 2, 3, 8, 5, 9, 4, 7, 5,\n",
              "       6, 7, 1, 9, 6, 9, 0, 5, 3, 2, 6, 3, 4, 7, 4, 9, 0, 0, 2, 6, 5, 0,\n",
              "       2, 3, 0, 1, 3, 0, 9, 8, 0, 4, 1, 8, 0, 2, 9, 6, 6, 9, 1, 2, 5, 5,\n",
              "       2, 2, 0, 4, 2, 6, 6, 2, 7, 7, 6, 3, 7, 3, 2, 2, 4, 9, 7, 9, 5, 9,\n",
              "       6, 0, 5, 9, 8, 7, 2, 2, 3, 5, 8, 0, 7, 2, 3, 1, 6, 0, 4, 7, 0, 5,\n",
              "       8, 0, 8, 4, 6, 4, 6, 6, 5, 9, 1, 6, 6, 5, 6, 9, 9, 1, 0, 5, 5, 7,\n",
              "       2, 6, 2, 5, 1, 1, 8, 6, 9, 0, 5, 2, 6, 4, 9, 4, 0, 3, 2, 4, 1, 3,\n",
              "       9, 3, 9, 9, 2, 8, 2, 7, 2, 4, 2, 0, 2, 6, 4, 5, 0, 9, 1, 0, 3, 1,\n",
              "       1, 9, 9, 6, 1, 7, 0, 3, 4, 7, 4, 7, 0, 0, 3, 5, 4, 1, 9, 6, 1, 7,\n",
              "       7, 9, 1, 3, 5, 8, 1, 0, 9, 0, 8, 1, 8, 9, 1, 1, 9, 5, 3, 1, 5, 7,\n",
              "       8, 0, 3, 0, 1, 6, 6, 1, 9, 4, 6, 0, 4, 2, 2, 2, 3, 4, 2, 7, 9, 4,\n",
              "       8, 2, 1, 0, 9, 0, 4, 4, 2, 0, 0, 8, 3, 4, 8, 7, 9, 0, 9, 4, 9, 2,\n",
              "       5, 5, 2, 9, 9, 6, 3, 5, 8, 9, 9, 8, 4, 8, 3, 0, 6, 4, 4, 0, 8, 9,\n",
              "       7, 6, 8, 5, 4, 2, 9, 4, 8, 0, 2, 6, 3, 0, 0, 8, 5, 2, 8, 1, 6, 6,\n",
              "       2, 7, 6, 4, 6, 6, 4, 5, 1, 7, 5, 2, 5, 3, 4, 7, 3, 2, 1, 0, 6, 3,\n",
              "       0, 0, 0, 4, 1, 1, 4, 7, 5, 2, 1, 8, 9, 1, 4, 3, 3, 4, 2, 6, 0, 3,\n",
              "       5, 6, 3, 1, 4, 9, 3, 3, 8, 1, 3, 2, 9, 7, 2, 3, 1, 8, 1, 1, 0, 7,\n",
              "       9, 8, 6, 2, 1, 0, 0, 4, 0, 2, 1, 9, 5, 6, 5, 4, 1, 1, 9, 8, 4, 1,\n",
              "       7, 2, 6, 6, 3, 4, 3, 3, 9, 0, 1, 6, 1, 8, 1, 7, 4, 0, 1, 2, 9, 7,\n",
              "       8, 2, 6, 8, 5, 0, 8, 3, 3, 1, 5, 4, 5, 5, 2, 1, 9, 8, 0, 6, 7, 3,\n",
              "       4, 2, 8, 7, 1, 2, 4, 6, 6, 4, 5, 8, 9, 9, 4, 9, 7, 0, 4, 9, 3, 1,\n",
              "       5, 3, 8, 6, 4, 4, 7, 7, 7, 3, 3, 2, 3, 7, 9, 5, 9, 0, 9, 8, 4, 0,\n",
              "       3, 9, 1, 1, 1, 9, 8, 6, 9, 1, 3, 3])"
            ]
          },
          "metadata": {},
          "execution_count": 45
        }
      ]
    },
    {
      "cell_type": "markdown",
      "source": [
        "## **Model Accuracy**"
      ],
      "metadata": {
        "id": "cIfmA907guCX"
      }
    },
    {
      "cell_type": "code",
      "source": [
        "from sklearn.metrics import confusion_matrix, classification_report"
      ],
      "metadata": {
        "id": "HGHkGfxQg5KS"
      },
      "execution_count": 47,
      "outputs": []
    },
    {
      "cell_type": "code",
      "source": [
        "confusion_matrix(y_test, y_pred)"
      ],
      "metadata": {
        "colab": {
          "base_uri": "https://localhost:8080/"
        },
        "id": "iRgwA-Luz2ds",
        "outputId": "8f9cedb9-dc6b-48f0-89f4-a5698c1d1627"
      },
      "execution_count": 49,
      "outputs": [
        {
          "output_type": "execute_result",
          "data": {
            "text/plain": [
              "array([[58,  0,  0,  0,  1,  0,  0,  0,  0,  0],\n",
              "       [ 0, 60,  0,  0,  0,  0,  0,  0,  0,  0],\n",
              "       [ 1,  0, 60,  0,  0,  0,  0,  0,  0,  0],\n",
              "       [ 0,  0,  0, 50,  0,  1,  0,  0,  2,  1],\n",
              "       [ 0,  0,  0,  0, 53,  0,  0,  1,  0,  0],\n",
              "       [ 0,  0,  0,  0,  1, 43,  0,  0,  0,  0],\n",
              "       [ 1,  0,  0,  0,  0,  0, 52,  0,  0,  0],\n",
              "       [ 0,  0,  0,  0,  0,  0,  0, 48,  0,  0],\n",
              "       [ 0,  2,  0,  1,  0,  0,  0,  0, 43,  0],\n",
              "       [ 0,  0,  0,  1,  0,  1,  0,  0,  0, 59]])"
            ]
          },
          "metadata": {},
          "execution_count": 49
        }
      ]
    },
    {
      "cell_type": "code",
      "source": [
        "print(classification_report(y_test, y_pred))"
      ],
      "metadata": {
        "colab": {
          "base_uri": "https://localhost:8080/"
        },
        "id": "KZ0Ys4sYz-kx",
        "outputId": "fcf7e063-f85f-4040-9eb4-f8b4dd09ab99"
      },
      "execution_count": 50,
      "outputs": [
        {
          "output_type": "stream",
          "name": "stdout",
          "text": [
            "              precision    recall  f1-score   support\n",
            "\n",
            "           0       0.97      0.98      0.97        59\n",
            "           1       0.97      1.00      0.98        60\n",
            "           2       1.00      0.98      0.99        61\n",
            "           3       0.96      0.93      0.94        54\n",
            "           4       0.96      0.98      0.97        54\n",
            "           5       0.96      0.98      0.97        44\n",
            "           6       1.00      0.98      0.99        53\n",
            "           7       0.98      1.00      0.99        48\n",
            "           8       0.96      0.93      0.95        46\n",
            "           9       0.98      0.97      0.98        61\n",
            "\n",
            "    accuracy                           0.97       540\n",
            "   macro avg       0.97      0.97      0.97       540\n",
            "weighted avg       0.97      0.97      0.97       540\n",
            "\n"
          ]
        }
      ]
    }
  ]
}